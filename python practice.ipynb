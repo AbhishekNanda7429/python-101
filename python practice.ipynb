{
 "cells": [
  {
   "cell_type": "code",
   "execution_count": 3,
   "metadata": {},
   "outputs": [
    {
     "name": "stdout",
     "output_type": "stream",
     "text": [
      "whats ur name?abhi\n",
      "your name is abhi\n"
     ]
    }
   ],
   "source": [
    "x=input('whats ur name?')\n",
    "print('your name is '+x)"
   ]
  },
  {
   "cell_type": "code",
   "execution_count": 14,
   "metadata": {},
   "outputs": [
    {
     "name": "stdout",
     "output_type": "stream",
     "text": [
      "0\n",
      "1\n",
      "2\n",
      "3\n",
      "4\n",
      "5\n",
      "6\n",
      "7\n",
      "8\n",
      "9\n"
     ]
    }
   ],
   "source": [
    "for i in range(10):\n",
    "    print (i),\n"
   ]
  },
  {
   "cell_type": "code",
   "execution_count": 17,
   "metadata": {},
   "outputs": [
    {
     "name": "stdout",
     "output_type": "stream",
     "text": [
      "negative\n"
     ]
    }
   ],
   "source": [
    "x=-6\n",
    "if x>0:\n",
    "    print (\"positive\")\n",
    "elif x==0:\n",
    "    print(\"zero\")\n",
    "else:\n",
    "    print (\"negative\")"
   ]
  },
  {
   "cell_type": "code",
   "execution_count": 21,
   "metadata": {},
   "outputs": [
    {
     "name": "stdout",
     "output_type": "stream",
     "text": [
      "10\n",
      "20\n",
      "30\n"
     ]
    }
   ],
   "source": [
    "x = [10,20,30]\n",
    "for y in x:\n",
    "    print (y)"
   ]
  },
  {
   "cell_type": "code",
   "execution_count": 25,
   "metadata": {},
   "outputs": [
    {
     "name": "stdout",
     "output_type": "stream",
     "text": [
      "5\n",
      "4\n",
      "3\n",
      "2\n",
      "1\n"
     ]
    }
   ],
   "source": [
    "for i in range(5,0,-1):\n",
    "    print (i)"
   ]
  },
  {
   "cell_type": "code",
   "execution_count": 35,
   "metadata": {},
   "outputs": [
    {
     "name": "stdout",
     "output_type": "stream",
     "text": [
      "6\n",
      "5\n",
      "4\n",
      "3\n",
      "2\n",
      "1\n"
     ]
    }
   ],
   "source": [
    "x= 5\n",
    "y= 6\n",
    "while x<=0:\n",
    "    print (x)\n",
    "    x= x-1\n",
    "else:\n",
    "    while y >0:\n",
    "        print (y)\n",
    "        y = y-1\n",
    "    "
   ]
  },
  {
   "cell_type": "code",
   "execution_count": 5,
   "metadata": {},
   "outputs": [
    {
     "name": "stdout",
     "output_type": "stream",
     "text": [
      "go away\n",
      "go away\n",
      "go away\n",
      "go away\n",
      "go away\n"
     ]
    }
   ],
   "source": [
    "for letter in 'hello':\n",
    "    if letter == 'i':\n",
    "        break\n",
    "    else:\n",
    "        print ('go away')"
   ]
  },
  {
   "cell_type": "code",
   "execution_count": 8,
   "metadata": {},
   "outputs": [
    {
     "name": "stdout",
     "output_type": "stream",
     "text": [
      "get lost\n",
      "get lost\n",
      "get lost\n",
      "get lost\n",
      "get lost\n"
     ]
    }
   ],
   "source": [
    "for letter in \"huayy\":\n",
    "        if letter == \"i\":\n",
    "            break\n",
    "        else:\n",
    "            print(\"get lost\")"
   ]
  },
  {
   "cell_type": "code",
   "execution_count": 9,
   "metadata": {},
   "outputs": [
    {
     "name": "stdout",
     "output_type": "stream",
     "text": [
      "the letter is : p\n",
      "the letter is : t\n",
      "the letter is : h\n",
      "the letter is : o\n",
      "the letter is : n\n"
     ]
    }
   ],
   "source": [
    "for letter in \"python\":\n",
    "    if letter ==\"y\":\n",
    "        continue\n",
    "    else:\n",
    "        print(\"the letter is :\",letter)"
   ]
  },
  {
   "cell_type": "code",
   "execution_count": 3,
   "metadata": {},
   "outputs": [
    {
     "name": "stdout",
     "output_type": "stream",
     "text": [
      "1 is not in 100\n",
      "2 is not in 100\n",
      "3 is not in 100\n",
      "4 is not in 100\n",
      "5 is not in 100\n",
      "6 is not in 100\n",
      "7 is not in 100\n",
      "8 is not in 100\n",
      "9 is not in 100\n",
      "10 is not in 100\n",
      "11 is not in 100\n",
      "12 is not in 100\n",
      "13 is not in 100\n",
      "14 is not in 100\n",
      "15 is not in 100\n",
      "16 is not in 100\n",
      "17 is not in 100\n",
      "18 is not in 100\n",
      "19 is not in 100\n",
      "20 is not in 100\n",
      "21 is not in 100\n",
      "22 is not in 100\n",
      "23 is not in 100\n",
      "24 is not in 100\n",
      "25 is not in 100\n",
      "26 is not in 100\n",
      "27 is not in 100\n",
      "28 is not in 100\n",
      "29 is not in 100\n",
      "30 is not in 100\n",
      "31 is not in 100\n",
      "32 is not in 100\n",
      "33 is not in 100\n",
      "34 is not in 100\n",
      "35 is not in 100\n",
      "36 is not in 100\n",
      "37 is not in 100\n",
      "38 is not in 100\n",
      "39 is not in 100\n",
      "40 is not in 100\n",
      "41 is not in 100\n",
      "42 is not in 100\n",
      "43 is not in 100\n",
      "44 is not in 100\n",
      "45 is not in 100\n",
      "46 is not in 100\n",
      "47 is not in 100\n",
      "48 is not in 100\n",
      "49 is not in 100\n",
      "50 is not in 100\n",
      "51 is not in 100\n",
      "52 is not in 100\n",
      "53 is not in 100\n",
      "54 is not in 100\n",
      "55 is not in 100\n",
      "56 is not in 100\n",
      "57 is not in 100\n",
      "58 is not in 100\n",
      "59 is not in 100\n",
      "60 is not in 100\n",
      "61 is not in 100\n",
      "62 is not in 100\n",
      "63 is not in 100\n",
      "64 is not in 100\n",
      "65 is not in 100\n",
      "66 is not in 100\n",
      "67 is not in 100\n",
      "68 is not in 100\n",
      "69 is not in 100\n",
      "70 is not in 100\n",
      "71 is not in 100\n",
      "72 is not in 100\n",
      "73 is not in 100\n",
      "74 is not in 100\n",
      "75 is not in 100\n",
      "76 is not in 100\n",
      "77 is not in 100\n",
      "78 is not in 100\n",
      "79 is not in 100\n",
      "80 is not in 100\n",
      "81 is not in 100\n",
      "82 is not in 100\n",
      "83 is not in 100\n",
      "84 is not in 100\n",
      "85 is not in 100\n",
      "86 is not in 100\n",
      "87 is not in 100\n",
      "88 is not in 100\n",
      "89 is not in 100\n",
      "90 is not in 100\n",
      "91 is not in 100\n",
      "92 is not in 100\n",
      "93 is not in 100\n",
      "94 is not in 100\n",
      "95 is not in 100\n",
      "96 is not in 100\n",
      "97 is not in 100\n",
      "98 is not in 100\n",
      "99 is not in 100\n",
      "100 not found\n"
     ]
    }
   ],
   "source": [
    "i = range(1,100)\n",
    "for x in i:\n",
    "    if x == 100:\n",
    "        print (x)\n",
    "        break\n",
    "    else:\n",
    "        print (x,\"is not in 100\")\n",
    "else:\n",
    "    print(\"100 not found\")\n",
    "\n",
    "    \n"
   ]
  },
  {
   "cell_type": "code",
   "execution_count": 4,
   "metadata": {},
   "outputs": [
    {
     "name": "stdout",
     "output_type": "stream",
     "text": [
      "1\n",
      "1\n",
      "2\n",
      "1\n",
      "1\n",
      "2\n"
     ]
    }
   ],
   "source": [
    "#white space\n",
    "\n",
    "for i in [0,1]:\n",
    "    for j in [\"a\",\"b\"]:\n",
    "        print(\"1\")\n",
    "    print(\"2\")\n",
    "    "
   ]
  },
  {
   "cell_type": "code",
   "execution_count": 5,
   "metadata": {},
   "outputs": [
    {
     "name": "stdout",
     "output_type": "stream",
     "text": [
      "current letter: p\n",
      "current letter: y\n",
      "current letter: t\n",
      "this is the pass block\n",
      "current letter: h\n",
      "current letter: o\n",
      "current letter: n\n"
     ]
    }
   ],
   "source": [
    "#pass\n",
    "\n",
    "for letter in \"python\":\n",
    "    if letter == \"h\":\n",
    "        pass\n",
    "        print(\"this is the pass block\")\n",
    "    print(\"current letter:\",letter)\n",
    "    \n"
   ]
  },
  {
   "cell_type": "code",
   "execution_count": 7,
   "metadata": {},
   "outputs": [
    {
     "name": "stdout",
     "output_type": "stream",
     "text": [
      "hello test\n"
     ]
    }
   ],
   "source": [
    "#strings\n",
    "\n",
    "str= \"hello\"\n",
    "print(str+\" test\")"
   ]
  },
  {
   "cell_type": "code",
   "execution_count": 9,
   "metadata": {},
   "outputs": [
    {
     "name": "stdout",
     "output_type": "stream",
     "text": [
      "yes\n"
     ]
    }
   ],
   "source": [
    "#containment\n",
    "\n",
    "x=\"hello world\"\n",
    "y = \"orl\"\n",
    "if y in x:\n",
    "    print(\"yes\")\n",
    "else:\n",
    "    print(\"no\")"
   ]
  },
  {
   "cell_type": "code",
   "execution_count": 20,
   "metadata": {},
   "outputs": [
    {
     "name": "stdout",
     "output_type": "stream",
     "text": [
      "idir\n",
      "sli\n",
      "slidir\n",
      "r\n",
      "slidi\n"
     ]
    }
   ],
   "source": [
    "#indexing & slicing\n",
    "\n",
    "x = \"slidir\"\n",
    "print(x[2:])\n",
    "print(x[:3])\n",
    "print(x[:])\n",
    "print(x[-1:])\n",
    "print(x[:-1])"
   ]
  },
  {
   "cell_type": "code",
   "execution_count": 27,
   "metadata": {},
   "outputs": [
    {
     "name": "stdout",
     "output_type": "stream",
     "text": [
      "HELLO\n",
      "hello\n",
      "True\n",
      "False\n",
      "False\n"
     ]
    }
   ],
   "source": [
    "#string methods\n",
    "\n",
    "str = \"hello\"\n",
    "print(str.upper())\n",
    "print(str.strip())\n",
    "print(str.isalpha())\n",
    "print(str.isdigit())\n",
    "print(str.isspace())"
   ]
  },
  {
   "cell_type": "markdown",
   "metadata": {},
   "source": [
    "\n"
   ]
  },
  {
   "cell_type": "code",
   "execution_count": 34,
   "metadata": {},
   "outputs": [
    {
     "data": {
      "text/plain": [
       "15"
      ]
     },
     "execution_count": 34,
     "metadata": {},
     "output_type": "execute_result"
    }
   ],
   "source": [
    "str = \" i am a person who is good\"\n",
    "\n",
    "str.find(\"am\")\n",
    "str.find('who')"
   ]
  },
  {
   "cell_type": "code",
   "execution_count": 38,
   "metadata": {},
   "outputs": [
    {
     "data": {
      "text/plain": [
       "'i um u good person with u good heurt'"
      ]
     },
     "execution_count": 38,
     "metadata": {},
     "output_type": "execute_result"
    }
   ],
   "source": [
    "str = \"i am a good person with a good heart\"\n",
    "str.replace('a','u')\n",
    "\n"
   ]
  },
  {
   "cell_type": "code",
   "execution_count": 8,
   "metadata": {},
   "outputs": [
    {
     "name": "stdout",
     "output_type": "stream",
     "text": [
      "helo world\n",
      "Helo World\n",
      "HELO WORLD\n",
      "Helo world\n"
     ]
    }
   ],
   "source": [
    "s='helo world'\n",
    "print(s)\n",
    "print(s.title())\n",
    "print(s.swapcase())\n",
    "print(s.capitalize())"
   ]
  },
  {
   "cell_type": "code",
   "execution_count": 9,
   "metadata": {},
   "outputs": [
    {
     "name": "stdout",
     "output_type": "stream",
     "text": [
      "2\n"
     ]
    }
   ],
   "source": [
    "s= 'hello world'\n",
    "print(s.count('o'))"
   ]
  },
  {
   "cell_type": "code",
   "execution_count": 10,
   "metadata": {},
   "outputs": [
    {
     "name": "stdout",
     "output_type": "stream",
     "text": [
      "[1, 2, 3, 'abhi']\n"
     ]
    }
   ],
   "source": [
    "#lists\n",
    "\n",
    "list=[1,2,3,'abhi']\n",
    "print(list)"
   ]
  },
  {
   "cell_type": "code",
   "execution_count": 16,
   "metadata": {},
   "outputs": [
    {
     "name": "stdout",
     "output_type": "stream",
     "text": [
      "[1, 2, 3, 'abhi', 5]\n"
     ]
    }
   ],
   "source": [
    "list=[1,2,3,'abhi']\n",
    "list.append(5)\n",
    "print(list)"
   ]
  },
  {
   "cell_type": "code",
   "execution_count": 40,
   "metadata": {},
   "outputs": [
    {
     "name": "stdout",
     "output_type": "stream",
     "text": [
      "[1, 2, 3, 4, 5, 6, 7, 8, 9]\n"
     ]
    }
   ],
   "source": [
    "list1=[1,2,3]\n",
    "list2=[7,8,9]\n",
    "list1.append(4)#can add only one item to the list \n",
    "list1.extend([5,6])# can add several items to the list\n",
    "list1.extend(list2)#another way of adding the two list using extend keyword\n",
    "print(list1)"
   ]
  },
  {
   "cell_type": "code",
   "execution_count": 24,
   "metadata": {},
   "outputs": [
    {
     "name": "stdout",
     "output_type": "stream",
     "text": [
      "[1, 2, 3, 'dog']\n"
     ]
    }
   ],
   "source": [
    "list2 = [1,2,3,'cat','dog']\n",
    "if 'cat' in list2:#checks the membership of the item\n",
    "    list2.remove('cat')#remove AKA delete\n",
    "print(list2)"
   ]
  },
  {
   "cell_type": "code",
   "execution_count": 27,
   "metadata": {},
   "outputs": [
    {
     "name": "stdout",
     "output_type": "stream",
     "text": [
      "1\n",
      "2\n",
      "3\n",
      "4\n",
      "cat\n",
      "item count: 5\n"
     ]
    }
   ],
   "source": [
    "list3 = [1,2,3,4,'cat']\n",
    "for item in list3:#checking the items\n",
    "    print(item)#printing the items\n",
    "print('item count:',len(list3))#print the item and the count "
   ]
  },
  {
   "cell_type": "code",
   "execution_count": 36,
   "metadata": {},
   "outputs": [
    {
     "name": "stdout",
     "output_type": "stream",
     "text": [
      "[3, 4, 5, 6]\n"
     ]
    }
   ],
   "source": [
    "list4 = [1,2,3,4]\n",
    "for i in range(0,len(list4)):#reading the length of the list using index format\n",
    "    list4[i] = list4[i] + 2 #now accessing the entire list using list from the index mentioned with the length of the original list\n",
    "print(list4)"
   ]
  },
  {
   "cell_type": "code",
   "execution_count": 39,
   "metadata": {},
   "outputs": [
    {
     "name": "stdout",
     "output_type": "stream",
     "text": [
      "[1, 2, [3, 4]]\n"
     ]
    }
   ],
   "source": [
    "p=[1,2]\n",
    "p.append([3,4])\n",
    "print(p)"
   ]
  },
  {
   "cell_type": "code",
   "execution_count": 45,
   "metadata": {},
   "outputs": [
    {
     "name": "stdout",
     "output_type": "stream",
     "text": [
      "idiot\n",
      "['idiot', 'rrr', 3, 4, 5]\n",
      "[1, 2, 'idiot', 'rrr']\n",
      "['qqq', 2, 'idiot', 'rrr', 3, 4, 5]\n"
     ]
    }
   ],
   "source": [
    "#slices\n",
    "\n",
    "list1 = [1,2,'idiot','rrr',3,4,5]# here the list index starts from 0 -> n-1\n",
    "print(list1[2])#printing a particular item from the list using index format\n",
    "print(list1[2:])#printing starts from the index 2 to till the end of the list\n",
    "print(list1[:4])#printing continues till index format 4 starting from the 0th index always\n",
    "list1[0]=('qqq')#assinging the index 0th to the qqq\n",
    "print(list1)#printing the list"
   ]
  },
  {
   "cell_type": "code",
   "execution_count": 50,
   "metadata": {},
   "outputs": [
    {
     "name": "stdout",
     "output_type": "stream",
     "text": [
      "[0, 1, 2, 3, 4, 5, 6, 7, 8, 9]\n"
     ]
    }
   ],
   "source": [
    "#non-continuos slice\n",
    "*********************\n",
    "\n",
    "list1 = [i for i in range(10)]\n",
    "#print(list1)\n",
    "list1[::2]\n",
    "print(list1)"
   ]
  },
  {
   "cell_type": "code",
   "execution_count": 58,
   "metadata": {},
   "outputs": [
    {
     "name": "stdout",
     "output_type": "stream",
     "text": [
      "[1, 2, 3, 4, 6]\n"
     ]
    }
   ],
   "source": [
    "list = [1,4,3,2,6,]\n",
    "list.sort()\n",
    "print(list)"
   ]
  },
  {
   "cell_type": "code",
   "execution_count": 1,
   "metadata": {},
   "outputs": [
    {
     "name": "stdout",
     "output_type": "stream",
     "text": [
      "[1, 2, 3, 4]\n",
      "[1, 2, 3, 4]\n",
      "[1, 2, 3, 4]\n",
      "[1, 2, 3, 4]\n"
     ]
    }
   ],
   "source": [
    "list1 = [1,2,3,4]\n",
    "for item in list1:\n",
    "    print(list1)"
   ]
  },
  {
   "cell_type": "code",
   "execution_count": 2,
   "metadata": {},
   "outputs": [
    {
     "name": "stdout",
     "output_type": "stream",
     "text": [
      "[2, 3, 4, 5, 6]\n"
     ]
    }
   ],
   "source": [
    "list2 = [1,2,3,4,5]\n",
    "for i in range(0,len(list2)):\n",
    "    list2[i]+=1\n",
    "print(list2)"
   ]
  },
  {
   "cell_type": "code",
   "execution_count": 11,
   "metadata": {},
   "outputs": [
    {
     "name": "stdout",
     "output_type": "stream",
     "text": [
      "[1, 2, 3, 4, 5, 6]\n"
     ]
    }
   ],
   "source": [
    "list1 = [1,2,3,4,5,6]\n",
    "for i in range(5,5+1,14):\n",
    "    print(list1)"
   ]
  },
  {
   "cell_type": "code",
   "execution_count": 17,
   "metadata": {},
   "outputs": [
    {
     "name": "stdout",
     "output_type": "stream",
     "text": [
      "[2, 4, 5, 6, 'q']\n"
     ]
    }
   ],
   "source": [
    "#removing from the list\n",
    "\n",
    "list1 = [1,2,3,4,5,6,'q','a']\n",
    "list1.pop()#removes the last digit of the list\n",
    "list1.pop(0)#removes the content of the 0th index\n",
    "del list1[1]#alternate way for deleting/removing\n",
    "#list1.remove('q')\n",
    "print(list1)\n",
    "#note: after every iteration the value of the index changes so dont get confused"
   ]
  },
  {
   "cell_type": "code",
   "execution_count": 20,
   "metadata": {},
   "outputs": [
    {
     "name": "stdout",
     "output_type": "stream",
     "text": [
      "['w', 'e', 'r', 'q']\n"
     ]
    }
   ],
   "source": [
    "list2 = ['q','w','e','r','q']\n",
    "list2.remove('q')#removing the specific content \n",
    "print(list2)\n",
    "#note: it only deletes the first occurance of the content"
   ]
  },
  {
   "cell_type": "code",
   "execution_count": 22,
   "metadata": {},
   "outputs": [
    {
     "name": "stdout",
     "output_type": "stream",
     "text": [
      "5 1 15\n",
      "3.0\n"
     ]
    }
   ],
   "source": [
    "#aggregates\n",
    "\n",
    "list1 = [1,2,3,4,5]\n",
    "print (max(list1),min(list1),sum(list1))\n",
    "average = sum(list1)/ float(len(list1))\n",
    "print(average)"
   ]
  },
  {
   "cell_type": "code",
   "execution_count": 24,
   "metadata": {},
   "outputs": [
    {
     "name": "stdout",
     "output_type": "stream",
     "text": [
      "[1, 'element']\n",
      "[2, 'element']\n"
     ]
    }
   ],
   "source": [
    "#copying\n",
    "\n",
    "list1 = [1,'element']\n",
    "list2 = list1[:]#copies the content of list1\n",
    "list2[0] = 2#replaces the content from list2 not from list1\n",
    "print(list1)\n",
    "print(list2)"
   ]
  },
  {
   "cell_type": "code",
   "execution_count": 26,
   "metadata": {},
   "outputs": [
    {
     "name": "stdout",
     "output_type": "stream",
     "text": [
      "[3, 'element']\n",
      "[3, 'element']\n"
     ]
    }
   ],
   "source": [
    "list1= [1,'element']\n",
    "list2= list1#coping the content of list1\n",
    "list2[0]= 3#makes changes in the original list too\n",
    "print(list1)\n",
    "print(list2)\n",
    "#note: the difference between above two programs are that the '[:]'"
   ]
  },
  {
   "cell_type": "code",
   "execution_count": 28,
   "metadata": {},
   "outputs": [
    {
     "name": "stdout",
     "output_type": "stream",
     "text": [
      "2\n"
     ]
    }
   ],
   "source": [
    "#deep copy\n",
    "\n",
    "import copy\n",
    "list1 = [1,[2,3]]\n",
    "list2 = copy.deepcopy(list1)\n",
    "list2[1][0]=4\n",
    "print(list1[1][0])"
   ]
  },
  {
   "cell_type": "code",
   "execution_count": 29,
   "metadata": {},
   "outputs": [
    {
     "name": "stdout",
     "output_type": "stream",
     "text": [
      "2\n"
     ]
    }
   ],
   "source": [
    "list1 = [1,[2,3]]\n",
    "print(list1[1][0])"
   ]
  },
  {
   "cell_type": "code",
   "execution_count": 36,
   "metadata": {},
   "outputs": [
    {
     "name": "stdout",
     "output_type": "stream",
     "text": [
      "[10, 40]\n"
     ]
    }
   ],
   "source": [
    "#list as stack\n",
    "\n",
    "stack = []\n",
    "stack.append(10)#adding to the list\n",
    "stack.append(20)#adding to the list\n",
    "stack.pop()#poping the last content from the list\n",
    "stack.append(30)\n",
    "stack.append(40)\n",
    "stack.pop(1)#specifically poping the content\n",
    "print(stack)"
   ]
  },
  {
   "cell_type": "code",
   "execution_count": 42,
   "metadata": {},
   "outputs": [
    {
     "name": "stdout",
     "output_type": "stream",
     "text": [
      "[10, 20, 30]\n",
      "[10, 20, 30, 40, 50]\n",
      "[10, 20, 30, 40]\n"
     ]
    }
   ],
   "source": [
    "#list as queue\n",
    "\n",
    "import queue\n",
    "queue = [10,20,30]\n",
    "print(queue)\n",
    "queue.append(40)\n",
    "queue.append(50)\n",
    "print(queue)\n",
    "queue.pop()\n",
    "print(queue)"
   ]
  },
  {
   "cell_type": "code",
   "execution_count": 45,
   "metadata": {},
   "outputs": [
    {
     "name": "stdout",
     "output_type": "stream",
     "text": [
      "(1, 2, 3, 'q', 'a')\n",
      "(4, 5, 6, 'w', 'e')\n",
      "(2, 3)\n",
      "(1, 2, 3, 'q', 'a', 4, 5, 6, 'w', 'e')\n"
     ]
    }
   ],
   "source": [
    "#tuple\n",
    "\n",
    "tuple1=(1,2,3,'q','a')\n",
    "tuple2=(4,5,6,'w','e')\n",
    "print(tuple1)\n",
    "print(tuple2)\n",
    "print(tuple1[1:3])\n",
    "print(tuple1+tuple2)\n",
    "#note: unlike list tuple cant be reassigned, thts why its used as a key \n",
    "print(tuple1[0]=10)#it is not possible, invalid syntax"
   ]
  },
  {
   "cell_type": "code",
   "execution_count": 49,
   "metadata": {},
   "outputs": [
    {
     "name": "stdout",
     "output_type": "stream",
     "text": [
      "(1, 2, 3)\n",
      "not equal\n"
     ]
    }
   ],
   "source": [
    "t = ()#empty tuple\n",
    "l=[1,2,3]#created a list\n",
    "t=tuple(l)#converting the list to the tuple and assigning them\n",
    "print(t)#printing the tuple\n",
    "if t==l:#check condition\n",
    "    print(l)#if true\n",
    "else:\n",
    "    print('not equal')#if false"
   ]
  },
  {
   "cell_type": "code",
   "execution_count": 55,
   "metadata": {},
   "outputs": [
    {
     "name": "stdout",
     "output_type": "stream",
     "text": [
      "(1, 2)\n",
      "(1, 2, 3, 4)\n",
      "4\n"
     ]
    }
   ],
   "source": [
    "#operations on tuple\n",
    "\n",
    "a=(1,2)\n",
    "b=(3,4)\n",
    "#a.append(5)\n",
    "print(a)\n",
    "print(a+b)\n",
    "print(len(a+b))"
   ]
  },
  {
   "cell_type": "code",
   "execution_count": 61,
   "metadata": {},
   "outputs": [
    {
     "name": "stdout",
     "output_type": "stream",
     "text": [
      "(1, 2, 3)\n",
      "[4, 5, 6]\n",
      "(('a', 1), ('b', 2))\n",
      "[('a', 1), ('b', 2)]\n"
     ]
    }
   ],
   "source": [
    "#converstion\n",
    "\n",
    "l=[1,2,3]\n",
    "print(tuple(l))#list to tuple\n",
    "t=(4,5,6)\n",
    "print(list(t))#tuple to list\n",
    "d={'a':1,'b':2}#its a dictionary\n",
    "print(tuple(d.items()))#dictionary to tuple\n",
    "print(list(d.items()))#dictionary to list"
   ]
  },
  {
   "cell_type": "code",
   "execution_count": 63,
   "metadata": {},
   "outputs": [
    {
     "name": "stdout",
     "output_type": "stream",
     "text": [
      "2\n",
      "4\n"
     ]
    }
   ],
   "source": [
    "#tuple methods\n",
    "\n",
    "tuple = (1,2,3,3,4,4,4,5,6,6,7)\n",
    "print(tuple.count(3))\n",
    "print(tuple.index(4))"
   ]
  },
  {
   "cell_type": "code",
   "execution_count": 5,
   "metadata": {},
   "outputs": [
    {
     "name": "stdout",
     "output_type": "stream",
     "text": [
      "no\n",
      "helo\n",
      "no\n",
      "helo\n",
      "no\n",
      "helo\n",
      "no\n"
     ]
    }
   ],
   "source": [
    "str = '12,5,9,7'\n",
    "for i in range(0,len(str)-1):\n",
    "    if (str[i] >str[i+1]):\n",
    "        print('helo')\n",
    "    else:\n",
    "        print('no')\n",
    "        \n",
    "# *******************using string didnt work*************"
   ]
  },
  {
   "cell_type": "code",
   "execution_count": 4,
   "metadata": {},
   "outputs": [
    {
     "name": "stdout",
     "output_type": "stream",
     "text": [
      "no\n",
      "helo\n",
      "no\n",
      "helo\n",
      "no\n"
     ]
    }
   ],
   "source": [
    "list=[2,3,1,5,4,6]\n",
    "for i in range(0,len(list)-1):\n",
    "    if list[i]>list[i+1]:\n",
    "        print('helo')\n",
    "    elif list[i]<list[i+1]:\n",
    "        print('no')\n",
    "    for i in range(list[i]==len(list)):\n",
    "            print('reached')\n",
    "    \n",
    "\n",
    "    "
   ]
  },
  {
   "cell_type": "code",
   "execution_count": 34,
   "metadata": {},
   "outputs": [
    {
     "name": "stdout",
     "output_type": "stream",
     "text": [
      "no\n",
      "no\n",
      "no\n",
      "[5, 7, 6]\n",
      "total sum from list:  18\n"
     ]
    }
   ],
   "source": [
    "list = [2,3,5,4,7,6,1]\n",
    "list1 = [] \n",
    "for i in range(0,len(list)-1):\n",
    "    if list[i] > list[i+1]:\n",
    "        #list[i]= list1[i]\n",
    "        list1.append(list[i])\n",
    "        #print('hi')\n",
    "    elif list[i] < list[i+1]:\n",
    "        print('no')\n",
    "for i in range(list[i] == len(list)):\n",
    "    list1.append(list[i])\n",
    "print(list1)\n",
    "total=0\n",
    "for i in range(0,len(list1)):\n",
    "    total = total + list1[i]\n",
    "print(\"total sum from list: \", total)"
   ]
  },
  {
   "cell_type": "code",
   "execution_count": 6,
   "metadata": {},
   "outputs": [
    {
     "name": "stdout",
     "output_type": "stream",
     "text": [
      "this is one\n",
      "this is two\n",
      "{'name': 'abhi', 'code': 234, 'age': 27}\n",
      "dict_keys(['name', 'code', 'age'])\n",
      "dict_values(['abhi', 234, 27])\n"
     ]
    }
   ],
   "source": [
    "#Disctionary\n",
    "\n",
    "dict = {}\n",
    "dict['one'] = \"this is one\"\n",
    "dict[2] = \"this is two\"\n",
    "tinydict = {'name':'abhi', 'code': 234,'age':27}\n",
    "print(dict['one'])\n",
    "print(dict[2])\n",
    "print(tinydict)\n",
    "print(tinydict.keys())\n",
    "print(tinydict.values())\n"
   ]
  },
  {
   "cell_type": "code",
   "execution_count": 9,
   "metadata": {},
   "outputs": [
    {
     "ename": "TypeError",
     "evalue": "'dict' object is not callable",
     "output_type": "error",
     "traceback": [
      "\u001b[1;31m---------------------------------------------------------------------------\u001b[0m",
      "\u001b[1;31mTypeError\u001b[0m                                 Traceback (most recent call last)",
      "\u001b[1;32m<ipython-input-9-dafbd6de8848>\u001b[0m in \u001b[0;36m<module>\u001b[1;34m\u001b[0m\n\u001b[0;32m      1\u001b[0m \u001b[0mdict1\u001b[0m\u001b[1;33m=\u001b[0m\u001b[1;33m{\u001b[0m\u001b[1;33m}\u001b[0m \u001b[1;31m#empty dictionary\u001b[0m\u001b[1;33m\u001b[0m\u001b[1;33m\u001b[0m\u001b[0m\n\u001b[0;32m      2\u001b[0m \u001b[1;31m#dict2=dict() #empty dictionary\u001b[0m\u001b[1;33m\u001b[0m\u001b[1;33m\u001b[0m\u001b[1;33m\u001b[0m\u001b[0m\n\u001b[1;32m----> 3\u001b[1;33m \u001b[0mdict3\u001b[0m \u001b[1;33m=\u001b[0m \u001b[1;33m{\u001b[0m\u001b[0mdict\u001b[0m\u001b[1;33m(\u001b[0m\u001b[1;33m[\u001b[0m\u001b[1;33m(\u001b[0m\u001b[1;34m\"r\"\u001b[0m\u001b[1;33m,\u001b[0m\u001b[1;36m34\u001b[0m\u001b[1;33m)\u001b[0m\u001b[1;33m,\u001b[0m\u001b[1;33m(\u001b[0m\u001b[1;34m\"i\"\u001b[0m\u001b[1;33m,\u001b[0m\u001b[1;36m56\u001b[0m\u001b[1;33m)\u001b[0m\u001b[1;33m]\u001b[0m\u001b[1;33m)\u001b[0m\u001b[1;33m}\u001b[0m\u001b[1;33m\u001b[0m\u001b[1;33m\u001b[0m\u001b[0m\n\u001b[0m\u001b[0;32m      4\u001b[0m \u001b[0mprint\u001b[0m\u001b[1;33m(\u001b[0m\u001b[0mdict3\u001b[0m\u001b[1;33m)\u001b[0m\u001b[1;33m\u001b[0m\u001b[1;33m\u001b[0m\u001b[0m\n",
      "\u001b[1;31mTypeError\u001b[0m: 'dict' object is not callable"
     ]
    }
   ],
   "source": [
    "dict1={} #empty dictionary\n",
    "#dict2=dict() #empty dictionary\n",
    "dict3 = {dict([(\"r\",34),(\"i\",56)])}\n",
    "print(dict3)\n"
   ]
  },
  {
   "cell_type": "code",
   "execution_count": 16,
   "metadata": {},
   "outputs": [
    {
     "name": "stdout",
     "output_type": "stream",
     "text": [
      "<zip object at 0x00000226CDCA1FC0>\n"
     ]
    }
   ],
   "source": [
    "seq1 = ('a','b','c')\n",
    "seq2 = [1,2,3]\n",
    "dict = (zip(seq1,seq2))\n",
    "print(dict)"
   ]
  },
  {
   "cell_type": "code",
   "execution_count": 18,
   "metadata": {},
   "outputs": [
    {
     "name": "stdout",
     "output_type": "stream",
     "text": [
      "[1, 2, 3, 3, 4]\n"
     ]
    }
   ],
   "source": [
    "#Sets\n",
    "\n",
    "set = ([1,2,3,3,4])\n",
    "print(set)"
   ]
  },
  {
   "cell_type": "code",
   "execution_count": 25,
   "metadata": {},
   "outputs": [
    {
     "name": "stdout",
     "output_type": "stream",
     "text": [
      "{1, 3, 4}\n",
      "{1, 2, 3, 4, 5}\n",
      "{1, 2, 3, 4, 5, 6, 7}\n",
      "{1, 2, 3, 4, 5, 6, 7, 8, 9, 10}\n"
     ]
    }
   ],
   "source": [
    "set={1,3}\n",
    "set.add(4)\n",
    "print(set)\n",
    "set.update([2,5]) #can update using \"[]\"\n",
    "print(set)\n",
    "set.update({6,5,7}) #can update using \"{}\"\n",
    "print(set)  \n",
    "set.update([8,8],{9,9,10}) #can update using both \"{}\"[]\"\n",
    "print(set)"
   ]
  },
  {
   "cell_type": "code",
   "execution_count": 34,
   "metadata": {},
   "outputs": [
    {
     "name": "stdout",
     "output_type": "stream",
     "text": [
      "{1, 2, 3, 4, 5, 6}\n",
      "{1, 3, 4, 5, 6}\n",
      "{3, 4, 5, 6}\n",
      "{4, 5, 6}\n",
      "{5, 6}\n",
      "set()\n"
     ]
    }
   ],
   "source": [
    "set1 = {1,2,3,4,4,5,6,6}\n",
    "print(set1)\n",
    "set1.discard(2)\n",
    "print(set1)\n",
    "set1.remove(1)\n",
    "print(set1)\n",
    "set1.pop()\n",
    "print(set1)\n",
    "set1.pop()\n",
    "print(set1)\n",
    "set1.clear()\n",
    "print(set1)"
   ]
  },
  {
   "cell_type": "code",
   "execution_count": 16,
   "metadata": {},
   "outputs": [
    {
     "ename": "TypeError",
     "evalue": "'set' object is not callable",
     "output_type": "error",
     "traceback": [
      "\u001b[1;31m---------------------------------------------------------------------------\u001b[0m",
      "\u001b[1;31mTypeError\u001b[0m                                 Traceback (most recent call last)",
      "\u001b[1;32m<ipython-input-16-4400cb76d401>\u001b[0m in \u001b[0;36m<module>\u001b[1;34m\u001b[0m\n\u001b[1;32m----> 1\u001b[1;33m \u001b[0mmy_set\u001b[0m \u001b[1;33m=\u001b[0m \u001b[0mset\u001b[0m\u001b[1;33m(\u001b[0m\u001b[1;34m\"HelloWorld\"\u001b[0m\u001b[1;33m)\u001b[0m\u001b[1;33m\u001b[0m\u001b[1;33m\u001b[0m\u001b[0m\n\u001b[0m\u001b[0;32m      2\u001b[0m \u001b[0mprint\u001b[0m\u001b[1;33m(\u001b[0m\u001b[0mmy_set\u001b[0m\u001b[1;33m)\u001b[0m\u001b[1;33m\u001b[0m\u001b[1;33m\u001b[0m\u001b[0m\n",
      "\u001b[1;31mTypeError\u001b[0m: 'set' object is not callable"
     ]
    }
   ],
   "source": [
    "my_set = set(\"HelloWorld\")\n",
    "print(my_set)\n"
   ]
  },
  {
   "cell_type": "code",
   "execution_count": 42,
   "metadata": {},
   "outputs": [
    {
     "name": "stdout",
     "output_type": "stream",
     "text": [
      "{1, 2, 3, 4, 5, 6, 7}\n",
      "{1, 2, 3, 4, 5, 6, 7}\n"
     ]
    }
   ],
   "source": [
    "#Set Union\n",
    "\n",
    "A= {1,2,3,4,4}\n",
    "B= {4,5,6,7,7}\n",
    "A.union(B) #may write may not write but do mention during print function\n",
    "print(A.union(B))\n",
    "print(B.union(A))\n",
    "#note: union from either side will be same"
   ]
  },
  {
   "cell_type": "code",
   "execution_count": 46,
   "metadata": {},
   "outputs": [
    {
     "name": "stdout",
     "output_type": "stream",
     "text": [
      "{1, 3, 4}\n",
      "{1, 3, 4}\n",
      "{1, 3, 4}\n"
     ]
    }
   ],
   "source": [
    "# Set Intersection\n",
    "\n",
    "A= {1,2,3,4,4}\n",
    "B= {4,3,5,6,1,7}\n",
    "print(A&B) #can use \"&\" operator  \n",
    "print(A.intersection(B)) # or you can use \"intersection\" operator \n",
    "print(B.intersection(A))\n",
    "#note: intersection from either side will be same."
   ]
  },
  {
   "cell_type": "code",
   "execution_count": 50,
   "metadata": {},
   "outputs": [
    {
     "name": "stdout",
     "output_type": "stream",
     "text": [
      "{1}\n",
      "{5}\n",
      "{1}\n",
      "{5}\n"
     ]
    }
   ],
   "source": [
    "#Set Difference\n",
    "\n",
    "A= {1,2,3,4}\n",
    "B= {2,3,4,5}\n",
    "print(A-B) #elements that are in A but not in B\n",
    "print(B-A) #elements that are in B but not in A\n",
    "print(A.difference(B))# can also use the 'difference' operator \n",
    "print(B.difference(A))"
   ]
  },
  {
   "cell_type": "code",
   "execution_count": 55,
   "metadata": {},
   "outputs": [
    {
     "name": "stdout",
     "output_type": "stream",
     "text": [
      "{1, 2, 5, 6}\n",
      "{1, 2, 5, 6}\n",
      "{1, 2, 5, 6}\n",
      "{1, 2, 5, 6}\n"
     ]
    }
   ],
   "source": [
    "#Symmetric Difference\n",
    "\n",
    "A={1,2,3,4}\n",
    "B={3,4,5,6}\n",
    "print(A^B)\n",
    "print(B^A)\n",
    "print(A.symmetric_difference(B))\n",
    "print(B.symmetric_difference(A))\n",
    "#note: symmetric difference of A and B is a set of element in both A nad B except those common in both"
   ]
  },
  {
   "cell_type": "code",
   "execution_count": 73,
   "metadata": {},
   "outputs": [
    {
     "name": "stdout",
     "output_type": "stream",
     "text": [
      "4\n",
      "5\n",
      "1\n",
      "[1, 2, 3, 8]\n",
      "11\n",
      "29\n",
      "{1, 2}\n",
      "None\n",
      "None\n",
      "False\n"
     ]
    }
   ],
   "source": [
    "#other methods of Set\n",
    "\n",
    "A= {1,2,3,5}\n",
    "B= {3,4,5,6}\n",
    "C= {8,2,3,1}\n",
    "D= {2,3,5}\n",
    "print(len(A)) #length of the set\n",
    "print(max(A)) #max element of the set\n",
    "print(min(A)) #min element of the set\n",
    "print(sorted(C)) #sort the set\n",
    "print(sum(A)) #sum of all the elements of the set\n",
    "print(sum(A)+sum(B)) #sum of the elements in two or more sets\n",
    "print(A.difference(B)) #difference between sets\n",
    "print(B.difference_update(A))\n",
    "print(A.intersection_update(C))\n",
    "print(D.issubset(A))"
   ]
  },
  {
   "cell_type": "code",
   "execution_count": 10,
   "metadata": {},
   "outputs": [],
   "source": [
    "set={'apple'}\n",
    "if 'p' in set:\n",
    "    print('yes')"
   ]
  },
  {
   "cell_type": "code",
   "execution_count": 17,
   "metadata": {},
   "outputs": [],
   "source": [
    "#some of the concept of Disctionary and Set is not yet clearly explained here, kindly skip these parts"
   ]
  },
  {
   "cell_type": "code",
   "execution_count": 33,
   "metadata": {},
   "outputs": [
    {
     "name": "stdout",
     "output_type": "stream",
     "text": [
      "this is first call\n",
      "this is second call\n",
      "23 call\n"
     ]
    }
   ],
   "source": [
    "#Functions\n",
    "\n",
    "def printme(str): #creating a function\n",
    "    \"this is a string\"\n",
    "    print(str)\n",
    "    return #return with no argument\n",
    "printme(\"this is first call\") #calling the function\n",
    "printme('this is second call')\n",
    "printme(\"23 call\")"
   ]
  },
  {
   "cell_type": "code",
   "execution_count": 52,
   "metadata": {},
   "outputs": [
    {
     "name": "stdout",
     "output_type": "stream",
     "text": [
      "23\n",
      "[1, 2, 3, 4, 5]\n"
     ]
    },
    {
     "data": {
      "text/plain": [
       "[1, 2, 3, 4, 5]"
      ]
     },
     "execution_count": 52,
     "metadata": {},
     "output_type": "execute_result"
    }
   ],
   "source": [
    "def printme(int): #initializing the function\n",
    "    \"call for integer\"\n",
    "    print(int)\n",
    "    return (int) #returning a argument \"int\"\n",
    "printme('23')\n",
    "#printme(\"this is string\")\n",
    "#printme('this is function')\n",
    "printme([1,2,3,4,5])"
   ]
  },
  {
   "cell_type": "code",
   "execution_count": 59,
   "metadata": {},
   "outputs": [
    {
     "name": "stdout",
     "output_type": "stream",
     "text": [
      "value inside the function [20, 30, 40, [2, 3, 4]]\n",
      "value outside the function [20, 30, 40, [2, 3, 4]]\n"
     ]
    }
   ],
   "source": [
    "#pass by reference\n",
    "def changeme(mylist):\n",
    "    #\"this is the changing passed functions\"\n",
    "    mylist.append([2,3,4])\n",
    "    print(\"value inside the function\",mylist)\n",
    "    return mylist\n",
    "mylist=[20,30,40]\n",
    "changeme(mylist)\n",
    "print(\"value outside the function\",mylist)"
   ]
  },
  {
   "cell_type": "code",
   "execution_count": 60,
   "metadata": {},
   "outputs": [
    {
     "name": "stdout",
     "output_type": "stream",
     "text": [
      "values inside the function: [1, 2, 3, 4]\n",
      "value outside the function: [10, 20, 30, 40]\n"
     ]
    }
   ],
   "source": [
    "#pass by value\n",
    "def changeme(mylist):\n",
    "    mylist=[1,2,3,4]\n",
    "   #mylist.append([50,60])\n",
    "    print(\"values inside the function:\",mylist)\n",
    "    return mylist\n",
    "mylist=[10,20,30,40]\n",
    "changeme(mylist)\n",
    "print(\"value outside the function:\",mylist)\n"
   ]
  },
  {
   "cell_type": "code",
   "execution_count": null,
   "metadata": {},
   "outputs": [],
   "source": []
  }
 ],
 "metadata": {
  "kernelspec": {
   "display_name": "Python 3",
   "language": "python",
   "name": "python3"
  },
  "language_info": {
   "codemirror_mode": {
    "name": "ipython",
    "version": 3
   },
   "file_extension": ".py",
   "mimetype": "text/x-python",
   "name": "python",
   "nbconvert_exporter": "python",
   "pygments_lexer": "ipython3",
   "version": "3.8.5"
  }
 },
 "nbformat": 4,
 "nbformat_minor": 4
}
