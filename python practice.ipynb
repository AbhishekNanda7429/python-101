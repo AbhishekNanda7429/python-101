{
 "cells": [
  {
   "cell_type": "code",
   "execution_count": 3,
   "metadata": {},
   "outputs": [
    {
     "name": "stdout",
     "output_type": "stream",
     "text": [
      "whats ur name?abhi\n",
      "your name is abhi\n"
     ]
    }
   ],
   "source": [
    "x=input('whats ur name?')\n",
    "print('your name is '+x)"
   ]
  },
  {
   "cell_type": "code",
   "execution_count": 14,
   "metadata": {},
   "outputs": [
    {
     "name": "stdout",
     "output_type": "stream",
     "text": [
      "0\n",
      "1\n",
      "2\n",
      "3\n",
      "4\n",
      "5\n",
      "6\n",
      "7\n",
      "8\n",
      "9\n"
     ]
    }
   ],
   "source": [
    "for i in range(10):\n",
    "    print (i),\n"
   ]
  },
  {
   "cell_type": "code",
   "execution_count": 17,
   "metadata": {},
   "outputs": [
    {
     "name": "stdout",
     "output_type": "stream",
     "text": [
      "negative\n"
     ]
    }
   ],
   "source": [
    "x=-6\n",
    "if x>0:\n",
    "    print (\"positive\")\n",
    "elif x==0:\n",
    "    print(\"zero\")\n",
    "else:\n",
    "    print (\"negative\")"
   ]
  },
  {
   "cell_type": "code",
   "execution_count": 21,
   "metadata": {},
   "outputs": [
    {
     "name": "stdout",
     "output_type": "stream",
     "text": [
      "10\n",
      "20\n",
      "30\n"
     ]
    }
   ],
   "source": [
    "x = [10,20,30]\n",
    "for y in x:\n",
    "    print (y)"
   ]
  },
  {
   "cell_type": "code",
   "execution_count": 25,
   "metadata": {},
   "outputs": [
    {
     "name": "stdout",
     "output_type": "stream",
     "text": [
      "5\n",
      "4\n",
      "3\n",
      "2\n",
      "1\n"
     ]
    }
   ],
   "source": [
    "for i in range(5,0,-1):\n",
    "    print (i)"
   ]
  },
  {
   "cell_type": "code",
   "execution_count": 35,
   "metadata": {},
   "outputs": [
    {
     "name": "stdout",
     "output_type": "stream",
     "text": [
      "6\n",
      "5\n",
      "4\n",
      "3\n",
      "2\n",
      "1\n"
     ]
    }
   ],
   "source": [
    "x= 5\n",
    "y= 6\n",
    "while x<=0:\n",
    "    print (x)\n",
    "    x= x-1\n",
    "else:\n",
    "    while y >0:\n",
    "        print (y)\n",
    "        y = y-1\n",
    "    "
   ]
  },
  {
   "cell_type": "code",
   "execution_count": 5,
   "metadata": {},
   "outputs": [
    {
     "name": "stdout",
     "output_type": "stream",
     "text": [
      "go away\n",
      "go away\n",
      "go away\n",
      "go away\n",
      "go away\n"
     ]
    }
   ],
   "source": [
    "for letter in 'hello':\n",
    "    if letter == 'i':\n",
    "        break\n",
    "    else:\n",
    "        print ('go away')"
   ]
  },
  {
   "cell_type": "code",
   "execution_count": 8,
   "metadata": {},
   "outputs": [
    {
     "name": "stdout",
     "output_type": "stream",
     "text": [
      "get lost\n",
      "get lost\n",
      "get lost\n",
      "get lost\n",
      "get lost\n"
     ]
    }
   ],
   "source": [
    "for letter in \"huayy\":\n",
    "        if letter == \"i\":\n",
    "            break\n",
    "        else:\n",
    "            print(\"get lost\")"
   ]
  },
  {
   "cell_type": "code",
   "execution_count": 9,
   "metadata": {},
   "outputs": [
    {
     "name": "stdout",
     "output_type": "stream",
     "text": [
      "the letter is : p\n",
      "the letter is : t\n",
      "the letter is : h\n",
      "the letter is : o\n",
      "the letter is : n\n"
     ]
    }
   ],
   "source": [
    "for letter in \"python\":\n",
    "    if letter ==\"y\":\n",
    "        continue\n",
    "    else:\n",
    "        print(\"the letter is :\",letter)"
   ]
  },
  {
   "cell_type": "code",
   "execution_count": 3,
   "metadata": {},
   "outputs": [
    {
     "name": "stdout",
     "output_type": "stream",
     "text": [
      "1 is not in 100\n",
      "2 is not in 100\n",
      "3 is not in 100\n",
      "4 is not in 100\n",
      "5 is not in 100\n",
      "6 is not in 100\n",
      "7 is not in 100\n",
      "8 is not in 100\n",
      "9 is not in 100\n",
      "10 is not in 100\n",
      "11 is not in 100\n",
      "12 is not in 100\n",
      "13 is not in 100\n",
      "14 is not in 100\n",
      "15 is not in 100\n",
      "16 is not in 100\n",
      "17 is not in 100\n",
      "18 is not in 100\n",
      "19 is not in 100\n",
      "20 is not in 100\n",
      "21 is not in 100\n",
      "22 is not in 100\n",
      "23 is not in 100\n",
      "24 is not in 100\n",
      "25 is not in 100\n",
      "26 is not in 100\n",
      "27 is not in 100\n",
      "28 is not in 100\n",
      "29 is not in 100\n",
      "30 is not in 100\n",
      "31 is not in 100\n",
      "32 is not in 100\n",
      "33 is not in 100\n",
      "34 is not in 100\n",
      "35 is not in 100\n",
      "36 is not in 100\n",
      "37 is not in 100\n",
      "38 is not in 100\n",
      "39 is not in 100\n",
      "40 is not in 100\n",
      "41 is not in 100\n",
      "42 is not in 100\n",
      "43 is not in 100\n",
      "44 is not in 100\n",
      "45 is not in 100\n",
      "46 is not in 100\n",
      "47 is not in 100\n",
      "48 is not in 100\n",
      "49 is not in 100\n",
      "50 is not in 100\n",
      "51 is not in 100\n",
      "52 is not in 100\n",
      "53 is not in 100\n",
      "54 is not in 100\n",
      "55 is not in 100\n",
      "56 is not in 100\n",
      "57 is not in 100\n",
      "58 is not in 100\n",
      "59 is not in 100\n",
      "60 is not in 100\n",
      "61 is not in 100\n",
      "62 is not in 100\n",
      "63 is not in 100\n",
      "64 is not in 100\n",
      "65 is not in 100\n",
      "66 is not in 100\n",
      "67 is not in 100\n",
      "68 is not in 100\n",
      "69 is not in 100\n",
      "70 is not in 100\n",
      "71 is not in 100\n",
      "72 is not in 100\n",
      "73 is not in 100\n",
      "74 is not in 100\n",
      "75 is not in 100\n",
      "76 is not in 100\n",
      "77 is not in 100\n",
      "78 is not in 100\n",
      "79 is not in 100\n",
      "80 is not in 100\n",
      "81 is not in 100\n",
      "82 is not in 100\n",
      "83 is not in 100\n",
      "84 is not in 100\n",
      "85 is not in 100\n",
      "86 is not in 100\n",
      "87 is not in 100\n",
      "88 is not in 100\n",
      "89 is not in 100\n",
      "90 is not in 100\n",
      "91 is not in 100\n",
      "92 is not in 100\n",
      "93 is not in 100\n",
      "94 is not in 100\n",
      "95 is not in 100\n",
      "96 is not in 100\n",
      "97 is not in 100\n",
      "98 is not in 100\n",
      "99 is not in 100\n",
      "100 not found\n"
     ]
    }
   ],
   "source": [
    "i = range(1,100)\n",
    "for x in i:\n",
    "    if x == 100:\n",
    "        print (x)\n",
    "        break\n",
    "    else:\n",
    "        print (x,\"is not in 100\")\n",
    "else:\n",
    "    print(\"100 not found\")\n",
    "\n",
    "    \n"
   ]
  },
  {
   "cell_type": "code",
   "execution_count": 4,
   "metadata": {},
   "outputs": [
    {
     "name": "stdout",
     "output_type": "stream",
     "text": [
      "1\n",
      "1\n",
      "2\n",
      "1\n",
      "1\n",
      "2\n"
     ]
    }
   ],
   "source": [
    "#white space\n",
    "\n",
    "for i in [0,1]:\n",
    "    for j in [\"a\",\"b\"]:\n",
    "        print(\"1\")\n",
    "    print(\"2\")\n",
    "    "
   ]
  },
  {
   "cell_type": "code",
   "execution_count": 5,
   "metadata": {},
   "outputs": [
    {
     "name": "stdout",
     "output_type": "stream",
     "text": [
      "current letter: p\n",
      "current letter: y\n",
      "current letter: t\n",
      "this is the pass block\n",
      "current letter: h\n",
      "current letter: o\n",
      "current letter: n\n"
     ]
    }
   ],
   "source": [
    "#pass\n",
    "\n",
    "for letter in \"python\":\n",
    "    if letter == \"h\":\n",
    "        pass\n",
    "        print(\"this is the pass block\")\n",
    "    print(\"current letter:\",letter)\n",
    "    \n"
   ]
  },
  {
   "cell_type": "code",
   "execution_count": 7,
   "metadata": {},
   "outputs": [
    {
     "name": "stdout",
     "output_type": "stream",
     "text": [
      "hello test\n"
     ]
    }
   ],
   "source": [
    "#strings\n",
    "\n",
    "str= \"hello\"\n",
    "print(str+\" test\")"
   ]
  },
  {
   "cell_type": "code",
   "execution_count": 9,
   "metadata": {},
   "outputs": [
    {
     "name": "stdout",
     "output_type": "stream",
     "text": [
      "yes\n"
     ]
    }
   ],
   "source": [
    "#containment\n",
    "\n",
    "x=\"hello world\"\n",
    "y = \"orl\"\n",
    "if y in x:\n",
    "    print(\"yes\")\n",
    "else:\n",
    "    print(\"no\")"
   ]
  },
  {
   "cell_type": "code",
   "execution_count": 20,
   "metadata": {},
   "outputs": [
    {
     "name": "stdout",
     "output_type": "stream",
     "text": [
      "idir\n",
      "sli\n",
      "slidir\n",
      "r\n",
      "slidi\n"
     ]
    }
   ],
   "source": [
    "#indexing & slicing\n",
    "\n",
    "x = \"slidir\"\n",
    "print(x[2:])\n",
    "print(x[:3])\n",
    "print(x[:])\n",
    "print(x[-1:])\n",
    "print(x[:-1])"
   ]
  },
  {
   "cell_type": "code",
   "execution_count": 27,
   "metadata": {},
   "outputs": [
    {
     "name": "stdout",
     "output_type": "stream",
     "text": [
      "HELLO\n",
      "hello\n",
      "True\n",
      "False\n",
      "False\n"
     ]
    }
   ],
   "source": [
    "#string methods\n",
    "\n",
    "str = \"hello\"\n",
    "print(str.upper())\n",
    "print(str.strip())\n",
    "print(str.isalpha())\n",
    "print(str.isdigit())\n",
    "print(str.isspace())"
   ]
  },
  {
   "cell_type": "markdown",
   "metadata": {},
   "source": [
    "\n"
   ]
  },
  {
   "cell_type": "code",
   "execution_count": 34,
   "metadata": {},
   "outputs": [
    {
     "data": {
      "text/plain": [
       "15"
      ]
     },
     "execution_count": 34,
     "metadata": {},
     "output_type": "execute_result"
    }
   ],
   "source": [
    "str = \" i am a person who is good\"\n",
    "\n",
    "str.find(\"am\")\n",
    "str.find('who')"
   ]
  },
  {
   "cell_type": "code",
   "execution_count": 38,
   "metadata": {},
   "outputs": [
    {
     "data": {
      "text/plain": [
       "'i um u good person with u good heurt'"
      ]
     },
     "execution_count": 38,
     "metadata": {},
     "output_type": "execute_result"
    }
   ],
   "source": [
    "str = \"i am a good person with a good heart\"\n",
    "str.replace('a','u')\n",
    "\n"
   ]
  },
  {
   "cell_type": "code",
   "execution_count": 8,
   "metadata": {},
   "outputs": [
    {
     "name": "stdout",
     "output_type": "stream",
     "text": [
      "helo world\n",
      "Helo World\n",
      "HELO WORLD\n",
      "Helo world\n"
     ]
    }
   ],
   "source": [
    "s='helo world'\n",
    "print(s)\n",
    "print(s.title())\n",
    "print(s.swapcase())\n",
    "print(s.capitalize())"
   ]
  },
  {
   "cell_type": "code",
   "execution_count": 9,
   "metadata": {},
   "outputs": [
    {
     "name": "stdout",
     "output_type": "stream",
     "text": [
      "2\n"
     ]
    }
   ],
   "source": [
    "s= 'hello world'\n",
    "print(s.count('o'))"
   ]
  },
  {
   "cell_type": "code",
   "execution_count": 10,
   "metadata": {},
   "outputs": [
    {
     "name": "stdout",
     "output_type": "stream",
     "text": [
      "[1, 2, 3, 'abhi']\n"
     ]
    }
   ],
   "source": [
    "#lists\n",
    "\n",
    "list=[1,2,3,'abhi']\n",
    "print(list)"
   ]
  },
  {
   "cell_type": "code",
   "execution_count": 16,
   "metadata": {},
   "outputs": [
    {
     "name": "stdout",
     "output_type": "stream",
     "text": [
      "[1, 2, 3, 'abhi', 5]\n"
     ]
    }
   ],
   "source": [
    "list=[1,2,3,'abhi']\n",
    "list.append(5)\n",
    "print(list)"
   ]
  },
  {
   "cell_type": "code",
   "execution_count": 40,
   "metadata": {},
   "outputs": [
    {
     "name": "stdout",
     "output_type": "stream",
     "text": [
      "[1, 2, 3, 4, 5, 6, 7, 8, 9]\n"
     ]
    }
   ],
   "source": [
    "list1=[1,2,3]\n",
    "list2=[7,8,9]\n",
    "list1.append(4)#can add only one item to the list \n",
    "list1.extend([5,6])# can add several items to the list\n",
    "list1.extend(list2)#another way of adding the two list using extend keyword\n",
    "print(list1)"
   ]
  },
  {
   "cell_type": "code",
   "execution_count": 24,
   "metadata": {},
   "outputs": [
    {
     "name": "stdout",
     "output_type": "stream",
     "text": [
      "[1, 2, 3, 'dog']\n"
     ]
    }
   ],
   "source": [
    "list2 = [1,2,3,'cat','dog']\n",
    "if 'cat' in list2:#checks the membership of the item\n",
    "    list2.remove('cat')#remove AKA delete\n",
    "print(list2)"
   ]
  },
  {
   "cell_type": "code",
   "execution_count": 27,
   "metadata": {},
   "outputs": [
    {
     "name": "stdout",
     "output_type": "stream",
     "text": [
      "1\n",
      "2\n",
      "3\n",
      "4\n",
      "cat\n",
      "item count: 5\n"
     ]
    }
   ],
   "source": [
    "list3 = [1,2,3,4,'cat']\n",
    "for item in list3:#checking the items\n",
    "    print(item)#printing the items\n",
    "print('item count:',len(list3))#print the item and the count "
   ]
  },
  {
   "cell_type": "code",
   "execution_count": 36,
   "metadata": {},
   "outputs": [
    {
     "name": "stdout",
     "output_type": "stream",
     "text": [
      "[3, 4, 5, 6]\n"
     ]
    }
   ],
   "source": [
    "list4 = [1,2,3,4]\n",
    "for i in range(0,len(list4)):#reading the length of the list using index format\n",
    "    list4[i] = list4[i] + 2 #now accessing the entire list using list from the index mentioned with the length of the original list\n",
    "print(list4)"
   ]
  },
  {
   "cell_type": "code",
   "execution_count": 39,
   "metadata": {},
   "outputs": [
    {
     "name": "stdout",
     "output_type": "stream",
     "text": [
      "[1, 2, [3, 4]]\n"
     ]
    }
   ],
   "source": [
    "p=[1,2]\n",
    "p.append([3,4])\n",
    "print(p)"
   ]
  },
  {
   "cell_type": "code",
   "execution_count": 45,
   "metadata": {},
   "outputs": [
    {
     "name": "stdout",
     "output_type": "stream",
     "text": [
      "idiot\n",
      "['idiot', 'rrr', 3, 4, 5]\n",
      "[1, 2, 'idiot', 'rrr']\n",
      "['qqq', 2, 'idiot', 'rrr', 3, 4, 5]\n"
     ]
    }
   ],
   "source": [
    "#slices\n",
    "\n",
    "list1 = [1,2,'idiot','rrr',3,4,5]# here the list index starts from 0 -> n-1\n",
    "print(list1[2])#printing a particular item from the list using index format\n",
    "print(list1[2:])#printing starts from the index 2 to till the end of the list\n",
    "print(list1[:4])#printing continues till index format 4 starting from the 0th index always\n",
    "list1[0]=('qqq')#assinging the index 0th to the qqq\n",
    "print(list1)#printing the list"
   ]
  },
  {
   "cell_type": "code",
   "execution_count": 50,
   "metadata": {},
   "outputs": [
    {
     "name": "stdout",
     "output_type": "stream",
     "text": [
      "[0, 1, 2, 3, 4, 5, 6, 7, 8, 9]\n"
     ]
    }
   ],
   "source": [
    "#non-continuos slice\n",
    "*********************\n",
    "\n",
    "list1 = [i for i in range(10)]\n",
    "#print(list1)\n",
    "list1[::2]\n",
    "print(list1)"
   ]
  },
  {
   "cell_type": "code",
   "execution_count": 58,
   "metadata": {},
   "outputs": [
    {
     "name": "stdout",
     "output_type": "stream",
     "text": [
      "[1, 2, 3, 4, 6]\n"
     ]
    }
   ],
   "source": [
    "list = [1,4,3,2,6,]\n",
    "list.sort()\n",
    "print(list)"
   ]
  },
  {
   "cell_type": "code",
   "execution_count": 1,
   "metadata": {},
   "outputs": [
    {
     "name": "stdout",
     "output_type": "stream",
     "text": [
      "[1, 2, 3, 4]\n",
      "[1, 2, 3, 4]\n",
      "[1, 2, 3, 4]\n",
      "[1, 2, 3, 4]\n"
     ]
    }
   ],
   "source": [
    "list1 = [1,2,3,4]\n",
    "for item in list1:\n",
    "    print(list1)"
   ]
  },
  {
   "cell_type": "code",
   "execution_count": 2,
   "metadata": {},
   "outputs": [
    {
     "name": "stdout",
     "output_type": "stream",
     "text": [
      "[2, 3, 4, 5, 6]\n"
     ]
    }
   ],
   "source": [
    "list2 = [1,2,3,4,5]\n",
    "for i in range(0,len(list2)):\n",
    "    list2[i]+=1\n",
    "print(list2)"
   ]
  },
  {
   "cell_type": "code",
   "execution_count": 11,
   "metadata": {},
   "outputs": [
    {
     "name": "stdout",
     "output_type": "stream",
     "text": [
      "[1, 2, 3, 4, 5, 6]\n"
     ]
    }
   ],
   "source": [
    "list1 = [1,2,3,4,5,6]\n",
    "for i in range(5,5+1,14):\n",
    "    print(list1)"
   ]
  },
  {
   "cell_type": "code",
   "execution_count": null,
   "metadata": {},
   "outputs": [],
   "source": []
  }
 ],
 "metadata": {
  "kernelspec": {
   "display_name": "Python 3",
   "language": "python",
   "name": "python3"
  },
  "language_info": {
   "codemirror_mode": {
    "name": "ipython",
    "version": 3
   },
   "file_extension": ".py",
   "mimetype": "text/x-python",
   "name": "python",
   "nbconvert_exporter": "python",
   "pygments_lexer": "ipython3",
   "version": "3.8.5"
  }
 },
 "nbformat": 4,
 "nbformat_minor": 4
}
